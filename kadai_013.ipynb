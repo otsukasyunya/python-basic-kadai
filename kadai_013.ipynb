{
  "nbformat": 4,
  "nbformat_minor": 0,
  "metadata": {
    "colab": {
      "provenance": [],
      "authorship_tag": "ABX9TyOYn0K0awlotkpMhgoAzglD",
      "include_colab_link": true
    },
    "kernelspec": {
      "name": "python3",
      "display_name": "Python 3"
    },
    "language_info": {
      "name": "python"
    }
  },
  "cells": [
    {
      "cell_type": "markdown",
      "metadata": {
        "id": "view-in-github",
        "colab_type": "text"
      },
      "source": [
        "<a href=\"https://colab.research.google.com/github/otsukasyunya/python-basic-kadai/blob/main/kadai_013.ipynb\" target=\"_parent\"><img src=\"https://colab.research.google.com/assets/colab-badge.svg\" alt=\"Open In Colab\"/></a>"
      ]
    },
    {
      "cell_type": "code",
      "source": [
        "def add_two_arguments(price,tax_rate):\n",
        "\n",
        "  total = price + (price * tax_rate)\n",
        "\n",
        "  print(f\"{total}円(税込)\")\n",
        "\n",
        "add_two_arguments(1000,0.1)\n"
      ],
      "metadata": {
        "colab": {
          "base_uri": "https://localhost:8080/"
        },
        "id": "IGazoSKfbocn",
        "outputId": "7ff1f6c3-26ed-4cb7-83a7-a1f4c9f19fe2"
      },
      "execution_count": 11,
      "outputs": [
        {
          "output_type": "stream",
          "name": "stdout",
          "text": [
            "1100.0円(税込)\n"
          ]
        }
      ]
    }
  ]
}