{
  "nbformat": 4,
  "nbformat_minor": 0,
  "metadata": {
    "colab": {
      "provenance": [],
      "authorship_tag": "ABX9TyP7lPSF/qtD29nd/R4JI+cy",
      "include_colab_link": true
    },
    "kernelspec": {
      "name": "python3",
      "display_name": "Python 3"
    },
    "language_info": {
      "name": "python"
    }
  },
  "cells": [
    {
      "cell_type": "markdown",
      "metadata": {
        "id": "view-in-github",
        "colab_type": "text"
      },
      "source": [
        "<a href=\"https://colab.research.google.com/github/otsukasyunya/python-basic-kadai/blob/main/kadai_013.ipynb\" target=\"_parent\"><img src=\"https://colab.research.google.com/assets/colab-badge.svg\" alt=\"Open In Colab\"/></a>"
      ]
    },
    {
      "cell_type": "code",
      "source": [
        "def calculate_total_price(price,tax_rate):\n",
        "  total = price + (price * tax_rate)\n",
        "  return total\n",
        "\n",
        "def add_two_arguments(price,tax_rate):\n",
        "  total_price = calculate_total_price(price,tax_rate)\n",
        "  return total_price\n",
        "\n",
        "product_price = 1500\n",
        "tax_rate = 0.1\n",
        "total_amount = add_two_arguments(product_price,tax_rate)\n",
        "print(f\"合計金額（税込）:{total_amount}円\")\n"
      ],
      "metadata": {
        "colab": {
          "base_uri": "https://localhost:8080/"
        },
        "id": "IGazoSKfbocn",
        "outputId": "f0002641-98e3-44d7-fb2a-c8e2164f7337"
      },
      "execution_count": 20,
      "outputs": [
        {
          "output_type": "stream",
          "name": "stdout",
          "text": [
            "合計金額（税込）:1650.0円\n"
          ]
        }
      ]
    }
  ]
}