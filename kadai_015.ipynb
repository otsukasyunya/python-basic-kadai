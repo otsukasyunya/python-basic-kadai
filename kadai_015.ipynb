{
  "nbformat": 4,
  "nbformat_minor": 0,
  "metadata": {
    "colab": {
      "provenance": [],
      "authorship_tag": "ABX9TyM2ULkzXN29KDqF3TJyowwY",
      "include_colab_link": true
    },
    "kernelspec": {
      "name": "python3",
      "display_name": "Python 3"
    },
    "language_info": {
      "name": "python"
    }
  },
  "cells": [
    {
      "cell_type": "markdown",
      "metadata": {
        "id": "view-in-github",
        "colab_type": "text"
      },
      "source": [
        "<a href=\"https://colab.research.google.com/github/otsukasyunya/python-basic-kadai/blob/main/kadai_015.ipynb\" target=\"_parent\"><img src=\"https://colab.research.google.com/assets/colab-badge.svg\" alt=\"Open In Colab\"/></a>"
      ]
    },
    {
      "cell_type": "code",
      "execution_count": null,
      "metadata": {
        "id": "l7zF5bOBnAzX"
      },
      "outputs": [],
      "source": [
        "class Human:\n",
        "    def __init__(self, name, age):\n",
        "        self.name = name\n",
        "        self.age = age\n",
        "\n",
        "    def printinfo(self):\n",
        "        print(f\"名前: {self.name}\")\n",
        "        print(f\"年齢: {self.age}歳\")\n",
        "\n",
        "# Humanクラスのインスタンスを作成\n",
        "person = Human(\"John\", 30)\n",
        "\n",
        "# printinfoメソッドを呼び出して情報を表示\n",
        "person.printinfo()\n",
        "\n",
        "\n"
      ]
    }
  ]
}