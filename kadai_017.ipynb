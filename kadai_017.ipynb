{
  "nbformat": 4,
  "nbformat_minor": 0,
  "metadata": {
    "colab": {
      "provenance": [],
      "authorship_tag": "ABX9TyOqQxjFgmLwer8XJNn6q4UD",
      "include_colab_link": true
    },
    "kernelspec": {
      "name": "python3",
      "display_name": "Python 3"
    },
    "language_info": {
      "name": "python"
    }
  },
  "cells": [
    {
      "cell_type": "markdown",
      "metadata": {
        "id": "view-in-github",
        "colab_type": "text"
      },
      "source": [
        "<a href=\"https://colab.research.google.com/github/otsukasyunya/python-basic-kadai/blob/main/kadai_017.ipynb\" target=\"_parent\"><img src=\"https://colab.research.google.com/assets/colab-badge.svg\" alt=\"Open In Colab\"/></a>"
      ]
    },
    {
      "cell_type": "code",
      "execution_count": 2,
      "metadata": {
        "colab": {
          "base_uri": "https://localhost:8080/"
        },
        "id": "6FYd0YBZkolA",
        "outputId": "ace7bcf1-44b4-4055-9460-3cfc01b36e45"
      },
      "outputs": [
        {
          "output_type": "stream",
          "name": "stdout",
          "text": [
            "健司 さんは大人です。\n",
            "温子 さんは大人ではありません。\n",
            "梨沙 さんは大人です。\n"
          ]
        }
      ],
      "source": [
        "class Human:\n",
        "    def __init__(self, name, age):\n",
        "        self.name = name\n",
        "        self.age = age\n",
        "\n",
        "    def check_adult(self):\n",
        "        if self.age >= 20:\n",
        "            print(f\"{self.name} さんは大人です。\")\n",
        "        else:\n",
        "            print(f\"{self.name} さんは大人ではありません。\")\n",
        "\n",
        "# Humanクラスのインスタンスを生成\n",
        "human1 = Human(\"健司\", 25)\n",
        "human2 = Human(\"温子\", 18)\n",
        "human3 = Human(\"梨沙\", 30)\n",
        "\n",
        "# インスタンスをリストに追加\n",
        "humans = [human1, human2, human3]\n",
        "\n",
        "# リストの各インスタンスに対してcheck_adultメソッドを呼び出し\n",
        "for human in humans:\n",
        "    human.check_adult()\n"
      ]
    }
  ]
}