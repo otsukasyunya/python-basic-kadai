{
  "nbformat": 4,
  "nbformat_minor": 0,
  "metadata": {
    "colab": {
      "provenance": [],
      "authorship_tag": "ABX9TyPA3Guf4HLCyJ8MtuerVHlH",
      "include_colab_link": true
    },
    "kernelspec": {
      "name": "python3",
      "display_name": "Python 3"
    },
    "language_info": {
      "name": "python"
    }
  },
  "cells": [
    {
      "cell_type": "markdown",
      "metadata": {
        "id": "view-in-github",
        "colab_type": "text"
      },
      "source": [
        "<a href=\"https://colab.research.google.com/github/otsukasyunya/python-basic-kadai/blob/main/kadai_005.ipynb\" target=\"_parent\"><img src=\"https://colab.research.google.com/assets/colab-badge.svg\" alt=\"Open In Colab\"/></a>"
      ]
    },
    {
      "cell_type": "code",
      "execution_count": 1,
      "metadata": {
        "colab": {
          "base_uri": "https://localhost:8080/"
        },
        "id": "7Wk8hmOy8BSM",
        "outputId": "7edd9588-d57e-4c87-f129-36ff6379e967"
      },
      "outputs": [
        {
          "output_type": "stream",
          "name": "stdout",
          "text": [
            "台形の面積は75.0㎠です\n"
          ]
        }
      ],
      "source": [
        "upper_base = 10\n",
        "low_base = 20\n",
        "height = 5\n",
        "\n",
        "#台形の面積を計算\n",
        "trapezoid_area = (upper_base + low_base) * height / 2\n",
        "\n",
        "#結果を出力\n",
        "print(f\"台形の面積は{trapezoid_area}㎠です\")\n",
        "\n",
        "\n"
      ]
    }
  ]
}